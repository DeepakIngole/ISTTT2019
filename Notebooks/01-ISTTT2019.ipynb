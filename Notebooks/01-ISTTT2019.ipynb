{
 "cells": [
  {
   "cell_type": "markdown",
   "metadata": {},
   "source": [
    "# Connecting Symuvia via Python \n",
    "\n",
    "This notebook explains the way a simple connection is created from `Python` towards `Symuvia`. In this case a simple simulation is run step by step and data is retrieved and stored within a `sqlite` file. At end data is imported and trajectories are plotted "
   ]
  },
  {
   "cell_type": "code",
   "execution_count": 51,
   "metadata": {},
   "outputs": [],
   "source": [
    "import os \n",
    "from ctypes import cdll, create_string_buffer, c_int, byref, c_bool\n",
    "\n",
    "\n",
    "from sqlalchemy import create_engine, MetaData\n",
    "from sqlalchemy import Table, Column, String, Integer, Float \n",
    "from sqlalchemy import insert, delete, select, case, and_\n",
    "\n",
    "from xmltodict import parse\n",
    "from collections import OrderedDict, Counter\n",
    "\n",
    "import pandas as pd\n",
    "import matplotlib.pyplot as plt\n",
    "\n",
    "# import altair as alt\n",
    "# alt.renderers.enable('default')\n",
    "# print(alt.renderers.active)\n",
    "\n",
    "# from vega_datasets import data as data_vega\n",
    "\n",
    "# import seaborn as sns"
   ]
  },
  {
   "cell_type": "markdown",
   "metadata": {},
   "source": [
    "## Connect Symuvia \n",
    "\n",
    "In this case connect to the simulator. First define the `libSymuVia.dylib` file "
   ]
  },
  {
   "cell_type": "code",
   "execution_count": 3,
   "metadata": {},
   "outputs": [],
   "source": [
    "dir_path = os.getcwd()\n",
    "lib_path_name = ('..','Symuvia','Contents','Frameworks','libSymuVia.dylib')"
   ]
  },
  {
   "cell_type": "code",
   "execution_count": 4,
   "metadata": {},
   "outputs": [],
   "source": [
    "full_name = os.path.join(dir_path,*lib_path_name)"
   ]
  },
  {
   "cell_type": "markdown",
   "metadata": {},
   "source": [
    "Load the lybrary"
   ]
  },
  {
   "cell_type": "code",
   "execution_count": 5,
   "metadata": {},
   "outputs": [],
   "source": [
    "symuvialib = cdll.LoadLibrary(full_name)     "
   ]
  },
  {
   "cell_type": "markdown",
   "metadata": {},
   "source": [
    "Determine the full path of the file to be simulated "
   ]
  },
  {
   "cell_type": "code",
   "execution_count": 6,
   "metadata": {},
   "outputs": [],
   "source": [
    "file_path = ('..', 'Network', 'Merge.xml')\n",
    "file_name = os.path.join(dir_path, *file_path)"
   ]
  },
  {
   "cell_type": "markdown",
   "metadata": {},
   "source": [
    "### Launching the symulation \n",
    "\n",
    "Load the network "
   ]
  },
  {
   "cell_type": "code",
   "execution_count": 7,
   "metadata": {},
   "outputs": [],
   "source": [
    "m = symuvialib.SymLoadNetworkEx(file_name.encode('UTF8'))"
   ]
  },
  {
   "cell_type": "markdown",
   "metadata": {},
   "source": [
    "Check creation / load database "
   ]
  },
  {
   "cell_type": "code",
   "execution_count": 8,
   "metadata": {},
   "outputs": [
    {
     "name": "stdout",
     "output_type": "stream",
     "text": [
      "Loaded table in:  Engine(sqlite:///../Output/SymOut.sqlite)\n"
     ]
    }
   ],
   "source": [
    "engine_path = ('..','Output','SymOut.sqlite')\n",
    "engine_name = os.path.join(os.path.sep,*engine_path)\n",
    "engine_full_name = os.path.join(dir_path,*engine_path)\n",
    "engine_call = 'sqlite://'+engine_name\n",
    "engine = create_engine(engine_call)\n",
    "metadata = MetaData()\n",
    "\n",
    "if os.path.isfile(engine_full_name):\n",
    "    try: \n",
    "        ltbstr = 'Loaded table in: '\n",
    "        connection = engine.connect()    \n",
    "        traj = Table('traj', metadata, autoload=True, autoload_with=engine)\n",
    "        stmt = delete(traj)\n",
    "        results = connection.execute(stmt)\n",
    "    except:\n",
    "        ltbstr = 'Loaded table in: '\n",
    "        traj = Table('traj', metadata,\n",
    "                 Column('ti', Float()),\n",
    "                 Column('id', Integer()),\n",
    "                 Column('type', String(3)),\n",
    "                 Column('tron', String(10)),\n",
    "                 Column('voie', Integer()),\n",
    "                 Column('dst', Float()),\n",
    "                 Column('abs', Float()),\n",
    "                 Column('vit', Float()),\n",
    "                 Column('ldr', Integer()),\n",
    "                 Column('spc', Float()),\n",
    "                 Column('vld', Float()))\n",
    "        metadata.create_all(engine)\n",
    "        connection = engine.connect()\n",
    "    finally: \n",
    "        print(ltbstr, engine)"
   ]
  },
  {
   "cell_type": "markdown",
   "metadata": {},
   "source": [
    "Create pointers to retrieve data "
   ]
  },
  {
   "cell_type": "code",
   "execution_count": 9,
   "metadata": {},
   "outputs": [],
   "source": [
    "sRequest = create_string_buffer(10000)\n",
    "bEnd = c_bool(False)\n",
    "bSecond = c_bool(True)"
   ]
  },
  {
   "cell_type": "markdown",
   "metadata": {},
   "source": [
    "Functions during running time "
   ]
  },
  {
   "cell_type": "code",
   "execution_count": 10,
   "metadata": {},
   "outputs": [],
   "source": [
    "# Parser data_vehicle\n",
    "def typedict(veh_dict):\n",
    "    data = {'id': int(veh_dict['@id']),\n",
    "        'type': veh_dict['@type'],\n",
    "        'tron': veh_dict['@tron'],\n",
    "        'voie': int(veh_dict['@voie']),\n",
    "        'dst': float(veh_dict['@dst']),\n",
    "        'abs': float(veh_dict['@abs']),\n",
    "        'vit': float(veh_dict['@vit']),\n",
    "       }\n",
    "    return data "
   ]
  },
  {
   "cell_type": "markdown",
   "metadata": {},
   "source": [
    "### Network information\n",
    "\n",
    "Information regarding V2V communicatioin is computed. In particular which is the connectivity in this case only a single leader is identified "
   ]
  },
  {
   "cell_type": "code",
   "execution_count": 11,
   "metadata": {},
   "outputs": [],
   "source": [
    "# Identify Leader \n",
    "\n",
    "def queueveh(dLeader, veh):\n",
    "    if veh['tron'] in dLeader.keys():\n",
    "        if  veh['id'] not in dLeader[veh['tron']]:\n",
    "            dLeader[veh['tron']].append(veh['id'])\n",
    "    else:\n",
    "        dLeader[veh['tron']] = [veh['id']]\n",
    "    return dLeader \n",
    "\n",
    "def getlead(dLeader, veh):\n",
    "    idx = dLeader[veh['tron']].index(veh['id'])\n",
    "    if idx != 0:\n",
    "        return dLeader[veh['tron']][idx-1]\n",
    "    else: \n",
    "        return dLeader[veh['tron']][idx]\n",
    "        "
   ]
  },
  {
   "cell_type": "markdown",
   "metadata": {},
   "source": [
    "### Control information \n",
    "\n",
    "In this case functions to compute `spacing` and leaders' information is provided "
   ]
  },
  {
   "cell_type": "code",
   "execution_count": 12,
   "metadata": {},
   "outputs": [],
   "source": [
    "# Spacing \n",
    "\n",
    "def getspace(lTrajVeh):    \n",
    "    try: \n",
    "        # Case single vehicle\n",
    "        if lTrajVeh['id'] == lTrajVeh['ldr']:\n",
    "            return [{'spc':0.0}] \n",
    "        else:\n",
    "            # Last vehicle\n",
    "            # Leader out of Network @ ti\n",
    "            return [{'spc':None}] \n",
    "    except (TypeError, IndexError):        \n",
    "        # Multiple veh @ ti\n",
    "        space = []\n",
    "        for veh in lTrajVeh:\n",
    "            if veh['id'] == veh['ldr']:\n",
    "                space.append(0.0)\n",
    "            else:             \n",
    "                veh_pos = veh['abs']\n",
    "                ldr_id = veh['ldr']\n",
    "                ldr_pos = [ldr['abs'] for ldr in lTrajVeh if ldr['id']==ldr_id]\n",
    "                if ldr_pos:\n",
    "                    space.append(ldr_pos[0]-veh_pos)\n",
    "                else:\n",
    "                    # Leader out of Network @ ti\n",
    "                    space.append(0.0)\n",
    "        space_dct = [{'spc': val} for val in space]\n",
    "        return space_dct\n",
    "\n",
    "def getleaderspeed(lTrajVeh):\n",
    "    try: \n",
    "        # Case single vehicle\n",
    "        if lTrajVeh['id'] == lTrajVeh['ldr']:\n",
    "            return [{'vld': lTrajVeh['vit']}]\n",
    "        else:\n",
    "            # Leader out of Network @ ti\n",
    "            return [{'vld':None}]                     \n",
    "    except (TypeError, IndexError):        \n",
    "        # Multiple veh @ ti\n",
    "        speedldr = []\n",
    "        for veh in lTrajVeh:\n",
    "            if veh['id'] == veh['ldr']:\n",
    "                speedldr.append(veh['vit'])\n",
    "            else:             \n",
    "                ldr_id = veh['ldr']\n",
    "                ldr_vit = [ldr['vit'] for ldr in lTrajVeh if ldr['id']==ldr_id]\n",
    "                if ldr_vit:\n",
    "                    speedldr.append(ldr_vit[0])\n",
    "                else:\n",
    "                    speedldr.append(veh['vit'])\n",
    "        speedldr_dct = [{'vld': val} for val in speedldr]\n",
    "        return speedldr_dct    \n",
    "    \n",
    "def updatelist(lTrajVeh,lDict):\n",
    "    try:\n",
    "        lTrajVeh.update(lDict[0])\n",
    "    except AttributeError:\n",
    "        for d,s in zip(lTrajVeh,lDict):\n",
    "            d.update(s)\n",
    "    return lTrajVeh\n",
    "\n"
   ]
  },
  {
   "cell_type": "markdown",
   "metadata": {},
   "source": [
    "Iterate step by step over the simulation"
   ]
  },
  {
   "cell_type": "code",
   "execution_count": 13,
   "metadata": {},
   "outputs": [
    {
     "name": "stdout",
     "output_type": "stream",
     "text": [
      "No vehicles in the network at time: 0.10\n",
      "No vehicles in the network at time: 0.20\n",
      "No vehicles in the network at time: 0.30\n",
      "No vehicles in the network at time: 0.40\n",
      "No vehicles in the network at time: 0.50\n",
      "No vehicles in the network at time: 0.60\n",
      "No vehicles in the network at time: 0.70\n",
      "No vehicles in the network at time: 0.80\n",
      "No vehicles in the network at time: 0.90\n",
      "No vehicles in the network at time: 1.00\n",
      "No vehicles in the network at time: 1.10\n",
      "No vehicles in the network at time: 1.20\n",
      "No vehicles in the network at time: 42.70\n",
      "No vehicles in the network at time: 42.80\n",
      "No vehicles in the network at time: 42.90\n",
      "No vehicles in the network at time: 43.00\n",
      "No vehicles in the network at time: 43.10\n",
      "No vehicles in the network at time: 43.20\n",
      "No vehicles in the network at time: 43.30\n",
      "No vehicles in the network at time: 43.40\n",
      "No vehicles in the network at time: 43.50\n",
      "No vehicles in the network at time: 43.60\n",
      "No vehicles in the network at time: 43.70\n",
      "No vehicles in the network at time: 43.80\n",
      "No vehicles in the network at time: 43.90\n",
      "No vehicles in the network at time: 44.00\n",
      "No vehicles in the network at time: 44.10\n",
      "No vehicles in the network at time: 44.20\n",
      "No vehicles in the network at time: 44.30\n",
      "No vehicles in the network at time: 44.40\n",
      "No vehicles in the network at time: 44.50\n",
      "No vehicles in the network at time: 44.60\n",
      "No vehicles in the network at time: 44.70\n",
      "No vehicles in the network at time: 44.80\n",
      "No vehicles in the network at time: 44.90\n",
      "Return from Symuvia Empty: \n",
      "Last simluation step at time: 44.90\n"
     ]
    }
   ],
   "source": [
    "N = 500 # Simulation steps\n",
    "\n",
    "# Start simulation from beginning\n",
    "m = symuvialib.SymLoadNetworkEx(file_name.encode('UTF8'))\n",
    "\n",
    "# Clean table\n",
    "stmt = delete(traj)\n",
    "results = connection.execute(stmt)\n",
    "\n",
    "step = iter(range(N)) \n",
    "stmt = insert(traj)\n",
    "\n",
    "t = []\n",
    "\n",
    "#for step in steps: \n",
    "bSuccess = 2 \n",
    "while bSuccess>0:\n",
    "    try:\n",
    "        next(step)\n",
    "        bSuccess =  symuvialib.SymRunNextStepEx(sRequest, True, byref(bEnd))\n",
    "        dParsed = parse(sRequest.value.decode('UTF8'))\n",
    "        ti = dParsed['INST']['@val']\n",
    "        if dParsed['INST']['TRAJS'] is None:\n",
    "            print('No vehicles in the network at time: {}'.format(ti))\n",
    "        else:            \n",
    "            lVehOD = dParsed['INST']['TRAJS']['TRAJ']      \n",
    "            lTrajVeh = []\n",
    "            try:\n",
    "                lTrajVeh = typedict(lVehOD)\n",
    "                lTrajVeh['ti'] = ti\n",
    "                dLeader = {lTrajVeh['tron']: [lTrajVeh['id']]}\n",
    "                lTrajVeh['ldr'] = getlead(dLeader, lTrajVeh)                  \n",
    "            except TypeError:\n",
    "                # Multiple veh @ ti\n",
    "                for i,  veh in enumerate(lVehOD):\n",
    "                    TrajVeh = typedict(veh)\n",
    "                    TrajVeh['ti'] = ti\n",
    "                    dLeader = queueveh(dLeader, TrajVeh)\n",
    "                    TrajVeh['ldr'] = getlead(dLeader, TrajVeh)\n",
    "                    lTrajVeh.append(TrajVeh)\n",
    "            lSpc = getspace(lTrajVeh)\n",
    "            lLdrV = getleaderspeed(lTrajVeh)\n",
    "            lTrajVeh = updatelist(lTrajVeh,lSpc)\n",
    "            lTrajVeh = updatelist(lTrajVeh,lLdrV)\n",
    "            results = connection.execute(stmt,lTrajVeh)\n",
    "            # print('{} vehicles in the network at time: {}'.format(results.rowcount, ti))\n",
    "          \n",
    "        t.append(ti)\n",
    "        \n",
    "    except StopIteration:\n",
    "        print('Stop by iteration')\n",
    "        print('Last simluation step at time: {}'.format(ti))\n",
    "        bSuccess = 0\n",
    "    except:\n",
    "        print('Return from Symuvia Empty: {}'.format(sRequest.value.decode('UTF8')))\n",
    "        print('Last simluation step at time: {}'.format(ti))\n",
    "        bSuccess = 0"
   ]
  },
  {
   "cell_type": "markdown",
   "metadata": {},
   "source": [
    "## Open loop: Results\n",
    "\n",
    "This is to retrieve results from the launched simulation"
   ]
  },
  {
   "cell_type": "code",
   "execution_count": 14,
   "metadata": {},
   "outputs": [
    {
     "name": "stdout",
     "output_type": "stream",
     "text": [
      "SELECT traj.ti, traj.id, traj.type, traj.tron, traj.voie, traj.dst, traj.abs, traj.vit, traj.ldr, traj.spc, traj.vld \n",
      "FROM traj\n"
     ]
    }
   ],
   "source": [
    "stmt = select([traj])\n",
    "print(stmt)\n",
    "results = connection.execute(stmt).fetchall()"
   ]
  },
  {
   "cell_type": "code",
   "execution_count": 15,
   "metadata": {},
   "outputs": [
    {
     "data": {
      "text/html": [
       "<div>\n",
       "<style scoped>\n",
       "    .dataframe tbody tr th:only-of-type {\n",
       "        vertical-align: middle;\n",
       "    }\n",
       "\n",
       "    .dataframe tbody tr th {\n",
       "        vertical-align: top;\n",
       "    }\n",
       "\n",
       "    .dataframe thead th {\n",
       "        text-align: right;\n",
       "    }\n",
       "</style>\n",
       "<table border=\"1\" class=\"dataframe\">\n",
       "  <thead>\n",
       "    <tr style=\"text-align: right;\">\n",
       "      <th></th>\n",
       "      <th>ti</th>\n",
       "      <th>id</th>\n",
       "      <th>type</th>\n",
       "      <th>tron</th>\n",
       "      <th>voie</th>\n",
       "      <th>dst</th>\n",
       "      <th>abs</th>\n",
       "      <th>vit</th>\n",
       "      <th>ldr</th>\n",
       "      <th>spc</th>\n",
       "      <th>vld</th>\n",
       "    </tr>\n",
       "  </thead>\n",
       "  <tbody>\n",
       "    <tr>\n",
       "      <th>0</th>\n",
       "      <td>1.3</td>\n",
       "      <td>0</td>\n",
       "      <td>CAV</td>\n",
       "      <td>In_main</td>\n",
       "      <td>1</td>\n",
       "      <td>1.25</td>\n",
       "      <td>-498.75</td>\n",
       "      <td>25.0</td>\n",
       "      <td>0</td>\n",
       "      <td>0.0</td>\n",
       "      <td>25.0</td>\n",
       "    </tr>\n",
       "    <tr>\n",
       "      <th>1</th>\n",
       "      <td>1.4</td>\n",
       "      <td>0</td>\n",
       "      <td>CAV</td>\n",
       "      <td>In_main</td>\n",
       "      <td>1</td>\n",
       "      <td>3.75</td>\n",
       "      <td>-496.25</td>\n",
       "      <td>25.0</td>\n",
       "      <td>0</td>\n",
       "      <td>0.0</td>\n",
       "      <td>25.0</td>\n",
       "    </tr>\n",
       "    <tr>\n",
       "      <th>2</th>\n",
       "      <td>1.5</td>\n",
       "      <td>0</td>\n",
       "      <td>CAV</td>\n",
       "      <td>In_main</td>\n",
       "      <td>1</td>\n",
       "      <td>6.25</td>\n",
       "      <td>-493.75</td>\n",
       "      <td>25.0</td>\n",
       "      <td>0</td>\n",
       "      <td>0.0</td>\n",
       "      <td>25.0</td>\n",
       "    </tr>\n",
       "    <tr>\n",
       "      <th>3</th>\n",
       "      <td>1.6</td>\n",
       "      <td>0</td>\n",
       "      <td>CAV</td>\n",
       "      <td>In_main</td>\n",
       "      <td>1</td>\n",
       "      <td>8.75</td>\n",
       "      <td>-491.25</td>\n",
       "      <td>25.0</td>\n",
       "      <td>0</td>\n",
       "      <td>0.0</td>\n",
       "      <td>25.0</td>\n",
       "    </tr>\n",
       "    <tr>\n",
       "      <th>4</th>\n",
       "      <td>1.7</td>\n",
       "      <td>0</td>\n",
       "      <td>CAV</td>\n",
       "      <td>In_main</td>\n",
       "      <td>1</td>\n",
       "      <td>11.25</td>\n",
       "      <td>-488.75</td>\n",
       "      <td>25.0</td>\n",
       "      <td>0</td>\n",
       "      <td>0.0</td>\n",
       "      <td>25.0</td>\n",
       "    </tr>\n",
       "  </tbody>\n",
       "</table>\n",
       "</div>"
      ],
      "text/plain": [
       "    ti  id type     tron  voie    dst     abs   vit  ldr  spc   vld\n",
       "0  1.3   0  CAV  In_main     1   1.25 -498.75  25.0    0  0.0  25.0\n",
       "1  1.4   0  CAV  In_main     1   3.75 -496.25  25.0    0  0.0  25.0\n",
       "2  1.5   0  CAV  In_main     1   6.25 -493.75  25.0    0  0.0  25.0\n",
       "3  1.6   0  CAV  In_main     1   8.75 -491.25  25.0    0  0.0  25.0\n",
       "4  1.7   0  CAV  In_main     1  11.25 -488.75  25.0    0  0.0  25.0"
      ]
     },
     "execution_count": 15,
     "metadata": {},
     "output_type": "execute_result"
    }
   ],
   "source": [
    "column_names = traj.columns.keys()\n",
    "trajDf = pd.DataFrame(results, columns = column_names)\n",
    "trajDf.head()"
   ]
  },
  {
   "cell_type": "code",
   "execution_count": 16,
   "metadata": {},
   "outputs": [
    {
     "name": "stdout",
     "output_type": "stream",
     "text": [
      "<class 'pandas.core.frame.DataFrame'>\n",
      "RangeIndex: 3736 entries, 0 to 3735\n",
      "Data columns (total 11 columns):\n",
      "ti      3736 non-null float64\n",
      "id      3736 non-null int64\n",
      "type    3736 non-null object\n",
      "tron    3736 non-null object\n",
      "voie    3736 non-null int64\n",
      "dst     3736 non-null float64\n",
      "abs     3736 non-null float64\n",
      "vit     3736 non-null float64\n",
      "ldr     3736 non-null int64\n",
      "spc     3736 non-null float64\n",
      "vld     3736 non-null float64\n",
      "dtypes: float64(6), int64(3), object(2)\n",
      "memory usage: 321.1+ KB\n"
     ]
    }
   ],
   "source": [
    "trajDf.info()"
   ]
  },
  {
   "cell_type": "code",
   "execution_count": 17,
   "metadata": {},
   "outputs": [
    {
     "data": {
      "image/png": "[encoded data removed]",
      "text/plain": [
       "<matplotlib.figure.Figure at 0x1129436d8>"
      ]
     },
     "metadata": {},
     "output_type": "display_data"
    }
   ],
   "source": [
    "trajDf.plot(kind='scatter',x='ti',y ='spc')\n",
    "plt.show()"
   ]
  },
  {
   "cell_type": "markdown",
   "metadata": {},
   "source": [
    "Extracting data for control "
   ]
  },
  {
   "cell_type": "code",
   "execution_count": 40,
   "metadata": {},
   "outputs": [
    {
     "data": {
      "text/plain": [
       "type\n",
       "CAV    [0, 1, 2, 3, 5, 6, 8, 9]\n",
       "HDV              [4, 7, 10, 11]\n",
       "Name: id, dtype: object"
      ]
     },
     "execution_count": 40,
     "metadata": {},
     "output_type": "execute_result"
    }
   ],
   "source": [
    "veh_type = trajDf.groupby('type').id.unique()\n",
    "n_CAV = len(veh_type['CAV'])\n",
    "n_HDV = len(veh_type['HDV'])\n",
    "veh_type.head()"
   ]
  },
  {
   "cell_type": "markdown",
   "metadata": {},
   "source": [
    "### Control law \n",
    " \n",
    "In order to execute the control we follow the following approach. \n",
    "\n",
    "1. First update $\\Delta v_{k+1} = \\Delta v_{k} + \\Delta u_{k}$. And $\\Delta u_i = u_{i-1}-u_i$ in particular $\\Delta u_0 = u_{ref}-u_{0}$\n",
    "2. At the level of code, a vehicle can be: \n",
    "    * **Platoon**: $u_{i-1}$ is known $\\Delta v_{k} $ can be computed. The key is $\\Delta v_k$\n",
    "    * **Non platoon**: $u_{i-1}$ is unknown, then an input pattern should be provided. \n",
    "    * **Following unconnected**: $u_{i-1}$ is unknown, but because of car-following model it is not required. The update sequence in time is different. \n",
    "3. When solving the control problem we can think about the following idea. \n",
    "    * The problem regularly is solved by **road** \n",
    "        ```python\n",
    "        for i in roads: \n",
    "            detect_vehicles_in_road(i)\n",
    "            solve_control_in_road(i)\n",
    "            apply_control_in_road(i)\n",
    "        ```\n",
    "    * Although we may think that the control strategy is solved distributely the key concept is:\n",
    "        * Compute the leader information \n",
    "        * Compute followers **at same time**. Use matrix operations for this \n",
    "        ```python\n",
    "        def solve_control_in_road(i)\n",
    "            if cav_veh(i)\n",
    "                v = get_cav_veh()\n",
    "                u = solve_control(v)\n",
    "            else \n",
    "                u = 0 # Value to force the car-following model\n",
    "            return u \n",
    "        ```\n",
    "        * Apply $u$"
   ]
  },
  {
   "cell_type": "markdown",
   "metadata": {},
   "source": [
    "### Creation table of results \n",
    "\n",
    "The following table will contain the results of simulation "
   ]
  },
  {
   "cell_type": "code",
   "execution_count": 18,
   "metadata": {},
   "outputs": [
    {
     "name": "stdout",
     "output_type": "stream",
     "text": [
      "Loaded table in:  Engine(sqlite:///../Output/SymOut.sqlite)\n"
     ]
    }
   ],
   "source": [
    "if os.path.isfile(engine_full_name):\n",
    "    try:\n",
    "        ltbstr = 'Loaded table in: '\n",
    "        connection = engine.connect()    \n",
    "        control = Table('control', metadata, autoload=True, autoload_with=engine)\n",
    "        stmt = delete(control)\n",
    "        results = connection.execute(stmt)\n",
    "    except:\n",
    "        ltbstr = 'Created table in: '\n",
    "        control = Table('control', metadata,\n",
    "                 Column('ti', Float()),\n",
    "                 Column('id', Integer()),\n",
    "                 Column('type', String(3)),\n",
    "                 Column('tron', String(10)),\n",
    "                 Column('voie', Integer()),\n",
    "                 Column('dst', Float()),\n",
    "                 Column('abs', Float()),\n",
    "                 Column('vit', Float()),\n",
    "                 Column('ldr', Integer()),\n",
    "                 Column('spc', Float()),\n",
    "                 Column('vld', Float()),\n",
    "                 Column('ctr', Float()))\n",
    "        metadata.create_all(engine)\n",
    "        connection = engine.connect()\n",
    "    finally: \n",
    "        print(ltbstr, engine)\n",
    "                "
   ]
  },
  {
   "cell_type": "code",
   "execution_count": 46,
   "metadata": {},
   "outputs": [
    {
     "name": "stdout",
     "output_type": "stream",
     "text": [
      "Stop by iteration\n",
      "Last simluation step at time: 20.10\n",
      "CPU times: user 249 ms, sys: 8.75 ms, total: 258 ms\n",
      "Wall time: 259 ms\n"
     ]
    }
   ],
   "source": [
    "%%time \n",
    "\n",
    "N = 200 # Simulation steps\n",
    "\n",
    "t_it = iter(t)\n",
    "step = iter(range(N)) \n",
    "\n",
    "bSuccess = 2 \n",
    "while bSuccess>0:\n",
    "    try: \n",
    "        t_i = next(t_it)\n",
    "        next(step)\n",
    "        \n",
    "        # Query results \n",
    "        stmt = select([traj]).where(traj.columns.ti==t_i)\n",
    "        results = connection.execute(stmt).fetchall()\n",
    "        \n",
    "        # Check vehicle creation\n",
    "        \n",
    "    \n",
    "    except StopIteration:\n",
    "        print('Stop by iteration')\n",
    "        print('Last simluation step at time: {}'.format(t_i))\n",
    "        bSuccess = 0"
   ]
  }
 ],
 "metadata": {
  "kernelspec": {
   "display_name": "Python [default]",
   "language": "python",
   "name": "python3"
  },
  "language_info": {
   "codemirror_mode": {
    "name": "ipython",
    "version": 3
   },
   "file_extension": ".py",
   "mimetype": "text/x-python",
   "name": "python",
   "nbconvert_exporter": "python",
   "pygments_lexer": "ipython3",
   "version": "3.6.4"
  }
 },
 "nbformat": 4,
 "nbformat_minor": 2
}

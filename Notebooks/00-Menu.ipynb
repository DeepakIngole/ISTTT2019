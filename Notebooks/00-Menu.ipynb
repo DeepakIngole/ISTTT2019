{
 "cells": [
  {
   "cell_type": "markdown",
   "metadata": {},
   "source": [
    "# A Hierarchical Approach For Splitting Truck Plattoons Near Network Discontinuities\n",
    "\n",
    "Aurelien Duret, Meng Wang, Andres Ladino\n",
    "\n",
    "This is a guide to recover results presented in *\"A hierarchical approach for splitting truck platoons near network discontinuities\"*. Results are presented in different Notebooks. Which should be able to run independently. \n",
    "\n",
    "***Note***: In order to run notebooks `01-Open-loop.ipynb`, `02-Tactical-strategy.ipynb` , `03-Operational-strategy.ipynb` a Symuvia version is required. Please do not hesitate to contact us in case you need support. You can recover results of the\n",
    "paper by runing the `04-Results.ipynb`\n",
    "\n",
    "The notes are divided as follows: \n",
    "\n",
    "- [01-Open-loop.ipynb](01-Open-loop.ipynb): This notebook details on a platoon formation reaching a merging situation is presented. No controls strategies are proposed for the merge \n",
    "- [02-Tactical-strategy.ipynb](02-Tactical-strategy.ipynb): In order to solve the control problem two phases are presented in the research. This notebook presents computation for the *Tactical* decisions \n",
    "- [03-Operational-strategy.ipynb](03-Operational-strategy.ipynb): In this notebook the deployment  of the control strategy  over the platoon of vehicles is presented. \n",
    "- [04-Results](04-Results.ipynb): Presents the results shown in the publication. This notebook does not require simulation library. \n"
   ]
  }
 ],
 "metadata": {
  "kernelspec": {
   "display_name": "Python [default]",
   "language": "python",
   "name": "python3"
  },
  "language_info": {
   "codemirror_mode": {
    "name": "ipython",
    "version": 3
   },
   "file_extension": ".py",
   "mimetype": "text/x-python",
   "name": "python",
   "nbconvert_exporter": "python",
   "pygments_lexer": "ipython3",
   "version": "3.6.4"
  }
 },
 "nbformat": 4,
 "nbformat_minor": 2
}

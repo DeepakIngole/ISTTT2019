{
 "cells": [
  {
   "cell_type": "markdown",
   "metadata": {},
   "source": [
    "# Closed loop simulations\n",
    "\n",
    "The objective in this notebook is to close the former strategy in Symuvia. "
   ]
  },
  {
   "cell_type": "code",
   "execution_count": 1,
   "metadata": {},
   "outputs": [],
   "source": [
    "import os\n",
    "\n",
    "from ctypes import cdll, create_string_buffer, c_int, byref, c_bool, c_double\n",
    "\n",
    "from sqlalchemy import create_engine, MetaData\n",
    "from sqlalchemy import Table, Column, String, Integer, Float \n",
    "from sqlalchemy import insert, delete, select, case, and_\n",
    "\n",
    "from xmltodict import parse\n",
    "\n",
    "import numpy as np\n",
    "import pandas as pd\n",
    "import matplotlib.pyplot as plt\n",
    "\n",
    "import ipywidgets as widgets\n",
    "from IPython.display import display\n",
    "\n",
    "from symfunc import queueveh, getlead, getspace, getleaderspeed, updatelist, typedict\n",
    "from contfunc import reversedEnumerate, find_idx_ldr, initial_setup_mpc, "
   ]
  },
  {
   "cell_type": "markdown",
   "metadata": {},
   "source": [
    "Parameters"
   ]
  },
  {
   "cell_type": "code",
   "execution_count": 14,
   "metadata": {},
   "outputs": [
    {
     "name": "stdout",
     "output_type": "stream",
     "text": [
      "Appending to contfunc.py\n"
     ]
    }
   ],
   "source": [
    "DT = 0.1 # Sample time \n",
    "\n",
    "KC = 0.16 # CAV max density \n",
    "KH = 0.0896 # HDV max density\n",
    "VF = 25.0 # Speed free flow\n",
    "W = 6.25 # Congestion speed \n",
    "E  = 25.0*0.3 # Speed drop for relaxation \n",
    "\n",
    "GCAV = 1/(KC*W) # Time headway CAV \n",
    "GHDV = 1/(KH*W) # Time headway HDV \n",
    "SCAV = VF/(KC*W)+1/KC #  Desired space headway CAV \n",
    "SHDV = VF/(KH*W)+1/KH #  Desired space headway HDV\n",
    "\n",
    "dveh_twy = {'CAV': GCAV, 'HDV': GHDV}\n",
    "dveh_dwy = {'CAV': 1/KC, 'HDV': 1/KH}\n",
    "\n",
    "U_MAX = 1.5 # Max. Acceleration\n",
    "U_MIN = -1.5 # Min. Acceleration"
   ]
  },
  {
   "cell_type": "markdown",
   "metadata": {},
   "source": [
    "Database engine configuration"
   ]
  },
  {
   "cell_type": "code",
   "execution_count": 3,
   "metadata": {},
   "outputs": [],
   "source": [
    "dir_path = os.getcwd()\n",
    "engine_path = ('..','Output','SymOut.sqlite')\n",
    "engine_name = os.path.join(os.path.sep,*engine_path)\n",
    "engine_full_name = os.path.join(dir_path,*engine_path)\n",
    "engine_call = 'sqlite://'+engine_name\n",
    "engine = create_engine(engine_call)\n",
    "metadata = MetaData()"
   ]
  },
  {
   "cell_type": "markdown",
   "metadata": {},
   "source": [
    "Load traffic library"
   ]
  },
  {
   "cell_type": "code",
   "execution_count": 4,
   "metadata": {},
   "outputs": [],
   "source": [
    "dir_path = os.getcwd()\n",
    "lib_path_name = ('..','SymuviaModPos','Contents','Frameworks','libSymuVia.dylib')\n",
    "full_name = os.path.join(dir_path,*lib_path_name)\n",
    "symuvialib = cdll.LoadLibrary(full_name)     "
   ]
  },
  {
   "cell_type": "markdown",
   "metadata": {},
   "source": [
    "Load traffic network "
   ]
  },
  {
   "cell_type": "code",
   "execution_count": 6,
   "metadata": {},
   "outputs": [],
   "source": [
    "file_path = ('..', 'Network', 'Merge.xml')\n",
    "file_name = os.path.join(dir_path, *file_path)\n",
    "\n",
    "# Pointers\n",
    "sRequest = create_string_buffer(100000)\n",
    "bEnd = c_int()\n",
    "bSecond = c_bool(True)"
   ]
  },
  {
   "cell_type": "markdown",
   "metadata": {},
   "source": [
    "Widgets"
   ]
  },
  {
   "cell_type": "code",
   "execution_count": 7,
   "metadata": {},
   "outputs": [],
   "source": [
    "progressSim = widgets.FloatProgress(\n",
    "    value=5,\n",
    "    min=0,\n",
    "    max=71.9,\n",
    "    step=0.1,\n",
    "    description='Simulating:',\n",
    "    bar_style='info',\n",
    "    orientation='horizontal'\n",
    ")\n",
    "tiVal = widgets.BoundedFloatText(\n",
    "    value=7.5,\n",
    "    min=0,\n",
    "    max=80.0,\n",
    "    step=0.1,\n",
    "    description='Time step:',\n",
    "    disabled=False\n",
    ")"
   ]
  },
  {
   "cell_type": "markdown",
   "metadata": {},
   "source": [
    "Loop simulation"
   ]
  },
  {
   "cell_type": "code",
   "execution_count": 10,
   "metadata": {},
   "outputs": [
    {
     "data": {
      "application/vnd.jupyter.widget-view+json": {
       "model_id": "b464e011833a47de9e5ce9d45f67e141",
       "version_major": 2,
       "version_minor": 0
      },
      "text/plain": [
       "FloatProgress(value=71.9, bar_style='info', description='Simulating:', max=71.9)"
      ]
     },
     "metadata": {},
     "output_type": "display_data"
    },
    {
     "data": {
      "application/vnd.jupyter.widget-view+json": {
       "model_id": "607ff4e4dd494915a488fc3f47d5f7c1",
       "version_major": 2,
       "version_minor": 0
      },
      "text/plain": [
       "BoundedFloatText(value=80.0, description='Time step:', max=80.0, step=0.1)"
      ]
     },
     "metadata": {},
     "output_type": "display_data"
    },
    {
     "name": "stdout",
     "output_type": "stream",
     "text": [
      "Stop by iteration\n",
      "Last simluation step at time: 1.30\n",
      "CPU times: user 141 ms, sys: 7.89 ms, total: 149 ms\n",
      "Wall time: 146 ms\n"
     ]
    }
   ],
   "source": [
    "%%time\n",
    "\n",
    "N = 13 # Simulation steps\n",
    "\n",
    "# Start simulation from beginning\n",
    "m = symuvialib.SymLoadNetworkEx(file_name.encode('UTF8'))\n",
    "\n",
    "step = iter(range(N)) \n",
    "\n",
    "t = []\n",
    "\n",
    "display(progressSim) \n",
    "display(tiVal)\n",
    "\n",
    "bSuccess = 2 \n",
    "while bSuccess>0:\n",
    "    bSuccess =  symuvialib.SymRunNextStepEx(sRequest, True, byref(bEnd))\n",
    "    try:\n",
    "        next(step)        \n",
    "        dParsed = parse(sRequest.value.decode('UTF8'))\n",
    "        ti = dParsed['INST']['@val']\n",
    "        if dParsed['INST']['TRAJS'] is None:\n",
    "            pass \n",
    "            #print('No vehicles in the network at time: {}'.format(ti))\n",
    "        else:            \n",
    "            lVehOD = dParsed['INST']['TRAJS']['TRAJ']      \n",
    "            lTrajVeh = []\n",
    "            try:\n",
    "                lTrajVeh = typedict(lVehOD)\n",
    "                lTrajVeh['ti'] = ti\n",
    "                dLeader = {lTrajVeh['tron']: [lTrajVeh['id']]}\n",
    "                lTrajVeh['ldr'] = getlead(dLeader, lTrajVeh)                  \n",
    "            except TypeError:\n",
    "                # Multiple veh @ ti\n",
    "                for i,  veh in enumerate(lVehOD):\n",
    "                    TrajVeh = typedict(veh)\n",
    "                    TrajVeh['ti'] = ti\n",
    "                    dLeader = queueveh(dLeader, TrajVeh)\n",
    "                    TrajVeh['ldr'] = getlead(dLeader, TrajVeh)\n",
    "                    lTrajVeh.append(TrajVeh)\n",
    "            lSpc = getspace(lTrajVeh)\n",
    "            lLdrV = getleaderspeed(lTrajVeh)\n",
    "            lTrajVeh = updatelist(lTrajVeh,lSpc)\n",
    "            lTrajVeh = updatelist(lTrajVeh,lLdrV)\n",
    "            # print('{} vehicles in the network at time: {}'.format(results.rowcount, ti))\n",
    "          \n",
    "        t.append(ti)\n",
    "        progressSim.value = ti\n",
    "        tiVal.value = ti\n",
    "    except StopIteration:\n",
    "        print('Stop by iteration')\n",
    "        print('Last simluation step at time: {}'.format(ti))\n",
    "        bSuccess = 0\n",
    "    except:\n",
    "        print(i)\n",
    "        bSuccess =  symuvialib.SymRunNextStepEx(sRequest, True, byref(bEnd))\n",
    "        print('Return from Symuvia Empty: {}'.format(sRequest.value.decode('UTF8')))\n",
    "        print('Last simluation step at time: {}'.format(ti))\n",
    "        bSuccess = 0\n",
    "        "
   ]
  },
  {
   "cell_type": "code",
   "execution_count": 9,
   "metadata": {},
   "outputs": [
    {
     "ename": "NameError",
     "evalue": "name 'time' is not defined",
     "output_type": "error",
     "traceback": [
      "\u001b[0;31m---------------------------------------------------------------------------\u001b[0m",
      "\u001b[0;31mNameError\u001b[0m                                 Traceback (most recent call last)",
      "\u001b[0;32m<ipython-input-9-e81a26a2efcb>\u001b[0m in \u001b[0;36m<module>\u001b[0;34m()\u001b[0m\n\u001b[1;32m      1\u001b[0m \u001b[0mm\u001b[0m \u001b[0;34m=\u001b[0m \u001b[0msymuvialib\u001b[0m\u001b[0;34m.\u001b[0m\u001b[0mSymLoadNetworkEx\u001b[0m\u001b[0;34m(\u001b[0m\u001b[0mfile_name\u001b[0m\u001b[0;34m.\u001b[0m\u001b[0mencode\u001b[0m\u001b[0;34m(\u001b[0m\u001b[0;34m'UTF8'\u001b[0m\u001b[0;34m)\u001b[0m\u001b[0;34m)\u001b[0m\u001b[0;34m\u001b[0m\u001b[0m\n\u001b[1;32m      2\u001b[0m \u001b[0mN\u001b[0m \u001b[0;34m=\u001b[0m \u001b[0;36m800\u001b[0m \u001b[0;31m# Simulation steps\u001b[0m\u001b[0;34m\u001b[0m\u001b[0m\n\u001b[0;32m----> 3\u001b[0;31m \u001b[0;32mfor\u001b[0m \u001b[0ms\u001b[0m \u001b[0;32min\u001b[0m \u001b[0mtime\u001b[0m\u001b[0;34m:\u001b[0m\u001b[0;34m\u001b[0m\u001b[0m\n\u001b[0m\u001b[1;32m      4\u001b[0m \u001b[0;34m\u001b[0m\u001b[0m\n\u001b[1;32m      5\u001b[0m     \u001b[0;31m# For all vehicle connected if created:\u001b[0m\u001b[0;34m\u001b[0m\u001b[0;34m\u001b[0m\u001b[0m\n",
      "\u001b[0;31mNameError\u001b[0m: name 'time' is not defined"
     ]
    }
   ],
   "source": [
    "m = symuvialib.SymLoadNetworkEx(file_name.encode('UTF8'))\n",
    "N = 800 # Simulation steps\n",
    "for s in time:\n",
    "    \n",
    "    # For all vehicle connected if created:\n",
    "    # Drive vehicle \n",
    "   # symuvialib.SymDriveVehiculeEx(Id,sTroncon, nVoie, dPos, bForce)\n",
    "\n",
    "    bResult = symuvialib.SymRunNextStepEx(sRequest, True, byref(bEnd)) \n",
    "    dParsed = parse(sRequest.value.decode('UTF8'))\n",
    "    print('Instant:',s+1)\n",
    "\n",
    "\n",
    "#     print(f'bResult: {bResult}')    \n",
    "#     print(f'OutputNet: {sRequest.value}')        \n",
    "    ti = dParsed['INST']['@val']\n",
    "    print(ti, bResult)\n",
    "\n",
    "# # Create vehicle at time step 0.5\n",
    "# stype = 'CAV'\n",
    "# sOrigin= 'Ext_In_main'\n",
    "# sDestination = 'Ext_Out_main'\n",
    "# nVoie = c_int(1)\n",
    "# dbTime = c_double(0.05)\n",
    "# nIdVeh = symuvialib.SymCreateVehicleEx(stype.encode('UTF8'), sOrigin.encode('UTF8'), sDestination.encode('UTF8'), nVoie, dbTime)\n",
    "# print('Vehicle created', nIdVeh)\n",
    "    \n",
    "    \n",
    "# # Run time step \n",
    "# bResult = symuvialib.SymRunNextStepEx(sRequest, 1, byref(bEnd)) \n",
    "# dParsed = parse(sRequest.value.decode('UTF8'))\n",
    "# print(f'bResult: {bResult}')    \n",
    "# print(f'OutputNet: {sRequest.value}')  \n",
    "# ti = dParsed['INST']['@val']\n",
    "# print(ti, bResult)   \n",
    "\n",
    "# # Drive vehicle @ 0.5\n",
    "\n",
    "sTroncon = 'In_main'.encode('UTF8')\n",
    "nVoie = c_int(1)\n",
    "dPos = c_double(15.0)\n",
    "Id = c_int(0)\n",
    "bForce = c_int(1)\n",
    "#print(sTroncon,nVoie,dPos,Id, bForce)\n",
    "dParsed1 = dParsed\n",
    "print(dParsed1)\n",
    "\n",
    "nres = symuvialib.SymDriveVehicleEx(Id, sTroncon, nVoie, dPos, bForce)\n",
    "\n",
    "\n",
    "bResult = symuvialib.SymRunNextStepEx(sRequest, 1, byref(bEnd)) \n",
    "dParsed = parse(sRequest.value.decode('UTF8'))\n",
    "# print(f'bResult: {bResult}')    \n",
    "# print(f'OutputNet: {sRequest.value}')  \n",
    "ti = dParsed['INST']['@val']\n",
    "print(ti, bResult)   \n",
    "print(dParsed)\n",
    "\n",
    "# print('Drive ',nres )"
   ]
  },
  {
   "cell_type": "code",
   "execution_count": null,
   "metadata": {},
   "outputs": [],
   "source": []
  },
  {
   "cell_type": "code",
   "execution_count": null,
   "metadata": {},
   "outputs": [],
   "source": []
  }
 ],
 "metadata": {
  "kernelspec": {
   "display_name": "Python [default]",
   "language": "python",
   "name": "python3"
  },
  "language_info": {
   "codemirror_mode": {
    "name": "ipython",
    "version": 3
   },
   "file_extension": ".py",
   "mimetype": "text/x-python",
   "name": "python",
   "nbconvert_exporter": "python",
   "pygments_lexer": "ipython3",
   "version": "3.6.4"
  }
 },
 "nbformat": 4,
 "nbformat_minor": 2
}

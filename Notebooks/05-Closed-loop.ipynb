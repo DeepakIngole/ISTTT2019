{
 "cells": [
  {
   "cell_type": "markdown",
   "metadata": {},
   "source": [
    "# Closed loop simulations\n",
    "\n",
    "The objective in this notebook is to close the former strategy in Symuvia. "
   ]
  },
  {
   "cell_type": "code",
   "execution_count": 1,
   "metadata": {},
   "outputs": [],
   "source": [
    "import os\n",
    "\n",
    "from ctypes import cdll, create_string_buffer, c_int, byref, c_bool, c_double\n",
    "\n",
    "from sqlalchemy import create_engine, MetaData\n",
    "from sqlalchemy import Table, Column, String, Integer, Float \n",
    "from sqlalchemy import insert, delete, select, case, and_\n",
    "\n",
    "from xmltodict import parse\n",
    "from xml.parsers.expat import ExpatError\n",
    "\n",
    "from collections import Counter, defaultdict\n",
    "\n",
    "import numpy as np\n",
    "import pandas as pd\n",
    "import matplotlib.pyplot as plt\n",
    "\n",
    "import ipywidgets as widgets\n",
    "from IPython.display import display\n",
    "\n",
    "from symuviapy.symfunc import queueveh, getlead, getspace, getleaderspeed, updatelist, typedict, check_veh_creation\n",
    "from symuviapy.contfunc import compute_control, format_open_loop, solve_tactical_problem, headway_reference"
   ]
  },
  {
   "cell_type": "markdown",
   "metadata": {},
   "source": [
    "#### 1. Setting Parameters\n",
    "\n",
    "Traffic simulation parameters "
   ]
  },
  {
   "cell_type": "code",
   "execution_count": 2,
   "metadata": {},
   "outputs": [],
   "source": [
    "DT = 0.1 # Sample time \n",
    "\n",
    "KC = 0.16 # CAV max density \n",
    "KH = 0.0896 # HDV max density\n",
    "VF = 25.0 # Speed free flow\n",
    "W = 6.25 # Congestion speed \n",
    "E  = 25.0*0.3 # Speed drop for relaxation \n",
    "\n",
    "GCAV = 1/(KC*W) # Time headway CAV \n",
    "GHDV = 1/(KH*W) # Time headway HDV \n",
    "SCAV = VF/(KC*W)+1/KC #  Desired space headway CAV \n",
    "SHDV = VF/(KH*W)+1/KH #  Desired space headway HDV\n",
    "\n",
    "dveh_twy = {'CAV': GCAV, 'HDV': GHDV}\n",
    "dveh_dwy = {'CAV': 1/KC, 'HDV': 1/KH}\n",
    "\n",
    "U_MAX = 1.5 # Max. Acceleration\n",
    "U_MIN = -1.5 # Min. Acceleration"
   ]
  },
  {
   "cell_type": "markdown",
   "metadata": {},
   "source": [
    "#### 2. Database engine configuration\n",
    "\n",
    "Reading database files "
   ]
  },
  {
   "cell_type": "code",
   "execution_count": 3,
   "metadata": {},
   "outputs": [],
   "source": [
    "dir_path = os.getcwd()\n",
    "engine_path = ('..','Output','SymOut.sqlite')\n",
    "engine_name = os.path.join(os.path.sep,*engine_path)\n",
    "engine_full_name = os.path.join(dir_path,*engine_path)\n",
    "engine_call = 'sqlite://'+engine_name\n",
    "engine = create_engine(engine_call)\n",
    "metadata = MetaData()"
   ]
  },
  {
   "cell_type": "markdown",
   "metadata": {},
   "source": [
    "#### 3. Open dB Connection + Table `headway`"
   ]
  },
  {
   "cell_type": "code",
   "execution_count": 4,
   "metadata": {},
   "outputs": [
    {
     "name": "stdout",
     "output_type": "stream",
     "text": [
      "Loaded table in:  Engine(sqlite:///../Output/SymOut.sqlite)\n"
     ]
    }
   ],
   "source": [
    "if os.path.isfile(engine_full_name):\n",
    "    try:\n",
    "        ltbstr = 'Loaded table in: '\n",
    "        connection = engine.connect()        \n",
    "        traj = Table('traj', metadata, autoload=True, autoload_with=engine)        \n",
    "        closed = Table('closed', metadata, autoload=True, autoload_with=engine)\n",
    "        headway = Table('headway', metadata, autoload=True, autoload_with=engine)\n",
    "        control = Table('control', metadata, autoload=True, autoload_with=engine)\n",
    "    except:\n",
    "        ltbstr = 'Created table in: '\n",
    "        traj = Table('traj', metadata,\n",
    "                 Column('ti', Float()),\n",
    "                 Column('id', Integer()),\n",
    "                 Column('type', String(3)),\n",
    "                 Column('tron', String(10)),\n",
    "                 Column('voie', Integer()),\n",
    "                 Column('dst', Float()),\n",
    "                 Column('abs', Float()),\n",
    "                 Column('vit', Float()),\n",
    "                 Column('ldr', Integer()),\n",
    "                 Column('spc', Float()),\n",
    "                 Column('vld', Float()))        \n",
    "        closed = Table('closed', metadata,\n",
    "                 Column('ti', Float()),\n",
    "                 Column('id', Integer()),\n",
    "                 Column('type', String(3)),\n",
    "                 Column('tron', String(10)),\n",
    "                 Column('voie', Integer()),\n",
    "                 Column('dst', Float()),\n",
    "                 Column('abs', Float()),\n",
    "                 Column('vit', Float()),\n",
    "                 Column('ldr', Integer()),\n",
    "                 Column('spc', Float()),\n",
    "                 Column('vld', Float()))\n",
    "        control = Table('control', metadata,\n",
    "                 Column('ti', Float()),\n",
    "                 Column('id', Integer()),\n",
    "                 Column('type', String(3)),\n",
    "                 Column('tron', String(10)),\n",
    "                 Column('voie', Integer()),\n",
    "                 Column('ctr', Float()),\n",
    "                 Column('nit', Integer())) \n",
    "        headway = Table('headway', metadata,\n",
    "                 Column('ti', Float()),\n",
    "                 Column('id', Integer()),\n",
    "                 Column('gapt', Float()))\n",
    "        metadata.create_all(engine)\n",
    "        connection = engine.connect()\n",
    "    finally: \n",
    "        print(ltbstr, engine)\n",
    "                "
   ]
  },
  {
   "cell_type": "markdown",
   "metadata": {},
   "source": [
    "#### 3. Load traffic library\n",
    "\n",
    "Load Symuvia library: "
   ]
  },
  {
   "cell_type": "code",
   "execution_count": 5,
   "metadata": {},
   "outputs": [],
   "source": [
    "dir_path = os.getcwd()\n",
    "lib_path_name = ('..','SymuviaModPos','Contents','Frameworks','libSymuVia.dylib')\n",
    "full_name = os.path.join(dir_path,*lib_path_name)\n",
    "symuvialib = cdll.LoadLibrary(full_name)     "
   ]
  },
  {
   "cell_type": "markdown",
   "metadata": {},
   "source": [
    "#### 4. Load traffic network \n",
    "\n",
    "Load traffic network "
   ]
  },
  {
   "cell_type": "code",
   "execution_count": 6,
   "metadata": {},
   "outputs": [],
   "source": [
    "file_path = ('..', 'Network', 'Merge_Demand.xml')\n",
    "file_name = os.path.join(dir_path, *file_path)\n",
    "\n",
    "# Pointers\n",
    "sRequest = create_string_buffer(100000)\n",
    "bEnd = c_int()\n",
    "bSecond = c_bool(True)"
   ]
  },
  {
   "cell_type": "markdown",
   "metadata": {},
   "source": [
    "#### 5. Widgets for evolution \n",
    "\n",
    "Helpful widgets to visualize progress in the simulation "
   ]
  },
  {
   "cell_type": "code",
   "execution_count": 7,
   "metadata": {},
   "outputs": [],
   "source": [
    "progressSim = widgets.FloatProgress(\n",
    "    value=5,\n",
    "    min=0,\n",
    "    max=71.9,\n",
    "    step=0.1,\n",
    "    description='Simulating:',\n",
    "    bar_style='info',\n",
    "    orientation='horizontal'\n",
    ")\n",
    "tiVal = widgets.BoundedFloatText(\n",
    "    value=7.5,\n",
    "    min=0,\n",
    "    max=80.0,\n",
    "    step=0.1,\n",
    "    description='Time step:',\n",
    "    disabled=False\n",
    ")"
   ]
  },
  {
   "cell_type": "markdown",
   "metadata": {},
   "source": [
    "#### 6. Start closed loop\n",
    "\n",
    "Within the closed loop at each time step the following activities are performed \n",
    "\n",
    "0. Retrieve sample\n",
    "1. Format samples \n",
    "3. Check initial conditions/ Enable control\n",
    "2. Allocate samples\n",
    "4. Solve tactical strategy (solved once) \n",
    "3. Solve control for CAV \n",
    "4. Compute evolution with corresponding control \n",
    "5. Format data \n",
    "6. Write in dataBase \n",
    "7. Update Symuvia \n",
    "8. Go to 0.\n",
    "\n"
   ]
  },
  {
   "cell_type": "code",
   "execution_count": 16,
   "metadata": {},
   "outputs": [],
   "source": [
    "def create_platoon(lVehDataFormat):\n",
    "    \"\"\"\n",
    "        Create platoon of vehicles \n",
    "    \"\"\"\n",
    "    lPlatoon = {}\n",
    "    roads = []\n",
    "    try:\n",
    "        for veh in lVehDataFormat: \n",
    "            key = veh['tron'] \n",
    "            if key in roads:\n",
    "                if veh['type'] == 'CAV':            \n",
    "                    lPlatoon[key].append(veh['id'])\n",
    "            else: \n",
    "                roads.append(key)            \n",
    "                lPlatoon[key] = [veh['id']] if veh['type']=='CAV' else []\n",
    "    except TypeError:\n",
    "        veh = lVehDataFormat\n",
    "        lPlatoon = [veh['id']] if veh['type']=='CAV' else []\n",
    "        \n",
    "    return lPlatoon\n",
    "\n",
    "def format_data_controller(lVehDataFormat, lPlatoon):\n",
    "    \"\"\"\n",
    "        Format data at time t for the controller, and\n",
    "        boundary data\n",
    "    \"\"\"\n",
    "    roads = [] \n",
    "    control_data = defaultdict(list)\n",
    "    bound_data = {}\n",
    "    bBound = False\n",
    "    for veh in lVehDataFormat:         \n",
    "        key = veh['id'] \n",
    "        veh_data = (float(veh['ti']),\n",
    "                    veh['id'],\n",
    "                    veh['type'],\n",
    "                    veh['tron'],\n",
    "                    veh['dst'],\n",
    "                    veh['abs'],\n",
    "                    veh['vit'],\n",
    "                    veh['ldr'],\n",
    "                    veh['spc'],\n",
    "                    veh['vld'],\n",
    "                   )\n",
    "\n",
    "        for road, platoon in lPlatoon.items():\n",
    "            if key in platoon:\n",
    "                control_data[road].append(veh_data)\n",
    "                break\n",
    "            bBound = True\n",
    "        key_rd = veh['tron']\n",
    "        if key_rd in roads:            \n",
    "            bound_data[key_rd].append(veh_data) \n",
    "            bBound = False\n",
    "        elif bBound: \n",
    "            roads.append(key_rd)\n",
    "            bound_data[key_rd] = [veh_data]\n",
    "            bBound = False\n",
    "        else:\n",
    "            continue\n",
    "            \n",
    "    control_values = list(dict(control_data).values())\n",
    "    bound_values = list(bound_data.values())\n",
    "    return control_values, bound_values "
   ]
  },
  {
   "cell_type": "code",
   "execution_count": 17,
   "metadata": {},
   "outputs": [
    {
     "data": {
      "application/vnd.jupyter.widget-view+json": {
       "model_id": "9b96073e1ae84c5d89a613a4557f69d6",
       "version_major": 2,
       "version_minor": 0
      },
      "text/plain": [
       "FloatProgress(value=12.0, bar_style='info', description='Simulating:', max=71.9)"
      ]
     },
     "metadata": {},
     "output_type": "display_data"
    },
    {
     "data": {
      "application/vnd.jupyter.widget-view+json": {
       "model_id": "f83d4e7116ff447b80d24d55d289be53",
       "version_major": 2,
       "version_minor": 0
      },
      "text/plain": [
       "BoundedFloatText(value=12.0, description='Time step:', max=80.0, step=0.1)"
      ]
     },
     "metadata": {},
     "output_type": "display_data"
    },
    {
     "name": "stdout",
     "output_type": "stream",
     "text": [
      "Tactics computed 12.10\n",
      "[(12.1, 0, 'CAV', 'In_main', 271.25, -728.75, 25.0, 0, 31.25, 25.0), (12.1, 1, 'CAV', 'In_main', 240.0, -760.0, 25.0, 0, 31.25, 25.0), (12.1, 2, 'CAV', 'In_main', 208.75, -791.25, 25.0, 1, 31.25, 25.0), (12.1, 3, 'CAV', 'In_main', 177.5, -822.5, 25.0, 2, 31.25, 25.0), (12.1, 4, 'CAV', 'In_main', 146.25, -853.75, 25.0, 3, 31.25, 25.0), (12.1, 5, 'CAV', 'In_main', 115.0, -885.0, 25.0, 4, 31.25, 25.0), (12.1, 7, 'CAV', 'In_main', 83.75, -916.25, 25.0, 5, 31.25, 25.0), (12.1, 8, 'CAV', 'In_main', 52.5, -947.5, 25.0, 7, 31.25, 25.0)] [0, 1, 2, 3, 4, 5, 7, 8]\n"
     ]
    },
    {
     "ename": "KeyError",
     "evalue": "4",
     "output_type": "error",
     "traceback": [
      "\u001b[0;31m---------------------------------------------------------------------------\u001b[0m",
      "\u001b[0;31mKeyError\u001b[0m                                  Traceback (most recent call last)",
      "\u001b[0;32m<timed exec>\u001b[0m in \u001b[0;36m<module>\u001b[0;34m()\u001b[0m\n",
      "\u001b[0;32m~/Documents/03-Code/02-Python/ISTTT2019/Notebooks/symuviapy/contfunc.py\u001b[0m in \u001b[0;36mcompute_control\u001b[0;34m(results, h_ref, u_lead)\u001b[0m\n\u001b[1;32m     78\u001b[0m \u001b[0;34m\u001b[0m\u001b[0m\n\u001b[1;32m     79\u001b[0m     \u001b[0;31m# Static leadership\u001b[0m\u001b[0;34m\u001b[0m\u001b[0;34m\u001b[0m\u001b[0m\n\u001b[0;32m---> 80\u001b[0;31m     \u001b[0mldr_pos\u001b[0m\u001b[0;34m,\u001b[0m \u001b[0m_\u001b[0m \u001b[0;34m=\u001b[0m \u001b[0mfind_idx_ldr\u001b[0m\u001b[0;34m(\u001b[0m\u001b[0mresults\u001b[0m\u001b[0;34m)\u001b[0m\u001b[0;34m\u001b[0m\u001b[0m\n\u001b[0m\u001b[1;32m     81\u001b[0m \u001b[0;34m\u001b[0m\u001b[0m\n\u001b[1;32m     82\u001b[0m     \u001b[0mS0\u001b[0m \u001b[0;34m=\u001b[0m \u001b[0;34m[\u001b[0m\u001b[0ms\u001b[0m\u001b[0;34m[\u001b[0m\u001b[0;36m9\u001b[0m\u001b[0;34m]\u001b[0m \u001b[0;32mfor\u001b[0m \u001b[0ms\u001b[0m \u001b[0;32min\u001b[0m \u001b[0mresults\u001b[0m \u001b[0;32mif\u001b[0m \u001b[0ms\u001b[0m\u001b[0;34m[\u001b[0m\u001b[0;36m2\u001b[0m\u001b[0;34m]\u001b[0m\u001b[0;34m==\u001b[0m\u001b[0;34m'CAV'\u001b[0m\u001b[0;34m]\u001b[0m\u001b[0;34m\u001b[0m\u001b[0m\n",
      "\u001b[0;32m~/Documents/03-Code/02-Python/ISTTT2019/Notebooks/symuviapy/contfunc.py\u001b[0m in \u001b[0;36mfind_idx_ldr\u001b[0;34m(results)\u001b[0m\n\u001b[1;32m     35\u001b[0m \u001b[0;31m#     \"\"\" From dbQuery finds idx or leader for CAVs\"\"\"\u001b[0m\u001b[0;34m\u001b[0m\u001b[0;34m\u001b[0m\u001b[0m\n\u001b[1;32m     36\u001b[0m     \u001b[0;31m# Frozen network (A-priori)\u001b[0m\u001b[0;34m\u001b[0m\u001b[0;34m\u001b[0m\u001b[0m\n\u001b[0;32m---> 37\u001b[0;31m     \u001b[0mldrl\u001b[0m \u001b[0;34m=\u001b[0m \u001b[0;34m[\u001b[0m\u001b[0mdveh_ldr\u001b[0m\u001b[0;34m[\u001b[0m\u001b[0mx\u001b[0m\u001b[0;34m[\u001b[0m\u001b[0;36m1\u001b[0m\u001b[0;34m]\u001b[0m\u001b[0;34m]\u001b[0m \u001b[0;32mfor\u001b[0m \u001b[0mx\u001b[0m \u001b[0;32min\u001b[0m \u001b[0mresults\u001b[0m \u001b[0;32mif\u001b[0m \u001b[0mx\u001b[0m\u001b[0;34m[\u001b[0m\u001b[0;36m2\u001b[0m\u001b[0;34m]\u001b[0m\u001b[0;34m==\u001b[0m\u001b[0;34m'CAV'\u001b[0m\u001b[0;34m]\u001b[0m\u001b[0;34m\u001b[0m\u001b[0m\n\u001b[0m\u001b[1;32m     38\u001b[0m     \u001b[0midx_ldr\u001b[0m \u001b[0;34m=\u001b[0m \u001b[0;34m[\u001b[0m\u001b[0mdveh_idx\u001b[0m\u001b[0;34m[\u001b[0m\u001b[0mx\u001b[0m\u001b[0;34m]\u001b[0m \u001b[0;32mfor\u001b[0m \u001b[0mx\u001b[0m \u001b[0;32min\u001b[0m \u001b[0mldrl\u001b[0m\u001b[0;34m]\u001b[0m\u001b[0;34m\u001b[0m\u001b[0m\n\u001b[1;32m     39\u001b[0m \u001b[0;34m\u001b[0m\u001b[0m\n",
      "\u001b[0;32m~/Documents/03-Code/02-Python/ISTTT2019/Notebooks/symuviapy/contfunc.py\u001b[0m in \u001b[0;36m<listcomp>\u001b[0;34m(.0)\u001b[0m\n\u001b[1;32m     35\u001b[0m \u001b[0;31m#     \"\"\" From dbQuery finds idx or leader for CAVs\"\"\"\u001b[0m\u001b[0;34m\u001b[0m\u001b[0;34m\u001b[0m\u001b[0m\n\u001b[1;32m     36\u001b[0m     \u001b[0;31m# Frozen network (A-priori)\u001b[0m\u001b[0;34m\u001b[0m\u001b[0;34m\u001b[0m\u001b[0m\n\u001b[0;32m---> 37\u001b[0;31m     \u001b[0mldrl\u001b[0m \u001b[0;34m=\u001b[0m \u001b[0;34m[\u001b[0m\u001b[0mdveh_ldr\u001b[0m\u001b[0;34m[\u001b[0m\u001b[0mx\u001b[0m\u001b[0;34m[\u001b[0m\u001b[0;36m1\u001b[0m\u001b[0;34m]\u001b[0m\u001b[0;34m]\u001b[0m \u001b[0;32mfor\u001b[0m \u001b[0mx\u001b[0m \u001b[0;32min\u001b[0m \u001b[0mresults\u001b[0m \u001b[0;32mif\u001b[0m \u001b[0mx\u001b[0m\u001b[0;34m[\u001b[0m\u001b[0;36m2\u001b[0m\u001b[0;34m]\u001b[0m\u001b[0;34m==\u001b[0m\u001b[0;34m'CAV'\u001b[0m\u001b[0;34m]\u001b[0m\u001b[0;34m\u001b[0m\u001b[0m\n\u001b[0m\u001b[1;32m     38\u001b[0m     \u001b[0midx_ldr\u001b[0m \u001b[0;34m=\u001b[0m \u001b[0;34m[\u001b[0m\u001b[0mdveh_idx\u001b[0m\u001b[0;34m[\u001b[0m\u001b[0mx\u001b[0m\u001b[0;34m]\u001b[0m \u001b[0;32mfor\u001b[0m \u001b[0mx\u001b[0m \u001b[0;32min\u001b[0m \u001b[0mldrl\u001b[0m\u001b[0;34m]\u001b[0m\u001b[0;34m\u001b[0m\u001b[0m\n\u001b[1;32m     39\u001b[0m \u001b[0;34m\u001b[0m\u001b[0m\n",
      "\u001b[0;31mKeyError\u001b[0m: 4"
     ]
    }
   ],
   "source": [
    "%%time\n",
    "\n",
    "# Simulation steps\n",
    "N = 120\n",
    "step = iter(range(N)) \n",
    "\n",
    "# Initialize simulation\n",
    "m = symuvialib.SymLoadNetworkEx(file_name.encode('UTF8'))\n",
    "\n",
    "\n",
    "# Widgets \n",
    "display(progressSim) \n",
    "display(tiVal)\n",
    "\n",
    "# Constant + Initial values\n",
    "bSuccess = 2\n",
    "bEnableControl = False\n",
    "bTacticalComputed = False \n",
    "t = []\n",
    "nVehInitial = {'In_main':8,\n",
    "               'In_onramp':2,\n",
    "               'Merge_zone':8,\n",
    "               'Out_main':8,\n",
    "              }\n",
    "\n",
    "while bSuccess>0:\n",
    "    # 0. \n",
    "    bSuccess =  symuvialib.SymRunNextStepEx(sRequest, True, byref(bEnd))\n",
    "    \n",
    "    try: \n",
    "        \n",
    "        # 1. \n",
    "        dParsed = parse(sRequest.value.decode('UTF8'))        \n",
    "        ti = dParsed['INST']['@val']\n",
    "        \n",
    "        if dParsed['INST']['TRAJS'] is None:\n",
    "            \n",
    "            # Empty network             \n",
    "            pass \n",
    "        \n",
    "        else:\n",
    "            \n",
    "            lVehDataRaw = dParsed['INST']['TRAJS']['TRAJ']                  \n",
    "            lVehDataFormat = []\n",
    "            \n",
    "            try:\n",
    "                # Single veh @ ti \n",
    "                \n",
    "                lVehDataFormat = typedict(lVehDataRaw)\n",
    "                lVehDataFormat['ti'] = ti\n",
    "                dLeader = {lVehDataFormat['tron']: [lVehDataFormat['id']]}                \n",
    "                lVehDataFormat['ldr'] = getlead(dLeader, lVehDataFormat)  \n",
    "                \n",
    "            except TypeError:\n",
    "                \n",
    "                # Multiple veh @ ti\n",
    "                for i,  veh in enumerate(lVehDataRaw):\n",
    "                    dVehData = typedict(veh)\n",
    "                    dVehData['ti'] = ti\n",
    "                    dLeader = queueveh(dLeader, dVehData)\n",
    "                    dVehData['ldr'] = getlead(dLeader, dVehData)\n",
    "                    lVehDataFormat.append(dVehData)\n",
    "                    \n",
    "            lSpacing = getspace(lVehDataFormat)\n",
    "            lLeaderSpeed = getleaderspeed(lVehDataFormat)\n",
    "            lVehDataFormat = updatelist(lVehDataFormat,lSpacing)\n",
    "            lVehDataFormat = updatelist(lVehDataFormat,lLeaderSpeed)\n",
    "            \n",
    "            \n",
    "            if bEnableControl:\n",
    "                if bTacticalComputed:\n",
    "                    print('Tactics computed {}'.format(ti))\n",
    "                    \n",
    "                    # Allocate samples\n",
    "                    control_data, bound_data = format_data_controller(lVehDataFormat, lVehCAVs)\n",
    "                    \n",
    "                    # Prediction horizon\n",
    "                    tf = float(ti) + 5.0                    \n",
    "                    bHorizon = (refDf.index >= float(ti)) & (refDf.index <= tf)                    \n",
    "                    refFuture = refDf.loc[bHorizon,:]   \n",
    "                    \n",
    "                    for veh_data, id_platoon in zip(control_data, lVehCAVs.values()):            \n",
    "                        print(veh_data,id_platoon)\n",
    "                        refPlatoon = refFuture[id_platoon].as_matrix()\n",
    "                        S, V, DV, U_star, DU, n = compute_control(veh_data, refPlatoon, 0) \n",
    "#                         print(refPlatoon.shape)\n",
    "                    \n",
    "                else: \n",
    "                    dTrigTau = solve_tactical_problem(lVehDataFormat)\n",
    "                    refDf = headway_reference(dTrigTau)\n",
    "                    bTacticalComputed = True       \n",
    "            else:\n",
    "                bEnableControl = check_veh_creation(lVehDataFormat, nVehInitial)\n",
    "                lVehCAVs = create_platoon(lVehDataFormat)\n",
    "        \n",
    "        n = next(step)           \n",
    "        t.append(ti)\n",
    "        progressSim.value = ti\n",
    "        tiVal.value = ti\n",
    "    except StopIteration:\n",
    "        print('Stop by iteration')\n",
    "        print('Last simluation step at time: {}'.format(ti))\n",
    "        bSuccess = 0\n",
    "    except ExpatError:\n",
    "        bSuccess =  symuvialib.SymRunNextStepEx(sRequest, True, byref(bEnd))\n",
    "        print('Return from Symuvia Empty: {}'.format(sRequest.value.decode('UTF8')))\n",
    "        print('Last simluation step at time: {}'.format(ti))\n",
    "        bSuccess = 0\n",
    "        "
   ]
  },
  {
   "cell_type": "code",
   "execution_count": 31,
   "metadata": {},
   "outputs": [
    {
     "ename": "NameError",
     "evalue": "name 'time' is not defined",
     "output_type": "error",
     "traceback": [
      "\u001b[0;31m---------------------------------------------------------------------------\u001b[0m",
      "\u001b[0;31mNameError\u001b[0m                                 Traceback (most recent call last)",
      "\u001b[0;32m<ipython-input-31-e81a26a2efcb>\u001b[0m in \u001b[0;36m<module>\u001b[0;34m()\u001b[0m\n\u001b[1;32m      1\u001b[0m \u001b[0mm\u001b[0m \u001b[0;34m=\u001b[0m \u001b[0msymuvialib\u001b[0m\u001b[0;34m.\u001b[0m\u001b[0mSymLoadNetworkEx\u001b[0m\u001b[0;34m(\u001b[0m\u001b[0mfile_name\u001b[0m\u001b[0;34m.\u001b[0m\u001b[0mencode\u001b[0m\u001b[0;34m(\u001b[0m\u001b[0;34m'UTF8'\u001b[0m\u001b[0;34m)\u001b[0m\u001b[0;34m)\u001b[0m\u001b[0;34m\u001b[0m\u001b[0m\n\u001b[1;32m      2\u001b[0m \u001b[0mN\u001b[0m \u001b[0;34m=\u001b[0m \u001b[0;36m800\u001b[0m \u001b[0;31m# Simulation steps\u001b[0m\u001b[0;34m\u001b[0m\u001b[0m\n\u001b[0;32m----> 3\u001b[0;31m \u001b[0;32mfor\u001b[0m \u001b[0ms\u001b[0m \u001b[0;32min\u001b[0m \u001b[0mtime\u001b[0m\u001b[0;34m:\u001b[0m\u001b[0;34m\u001b[0m\u001b[0m\n\u001b[0m\u001b[1;32m      4\u001b[0m \u001b[0;34m\u001b[0m\u001b[0m\n\u001b[1;32m      5\u001b[0m     \u001b[0;31m# For all vehicle connected if created:\u001b[0m\u001b[0;34m\u001b[0m\u001b[0;34m\u001b[0m\u001b[0m\n",
      "\u001b[0;31mNameError\u001b[0m: name 'time' is not defined"
     ]
    }
   ],
   "source": [
    "m = symuvialib.SymLoadNetworkEx(file_name.encode('UTF8'))\n",
    "N = 800 # Simulation steps\n",
    "for s in time:\n",
    "    \n",
    "    # For all vehicle connected if created:\n",
    "    # Drive vehicle \n",
    "   # symuvialib.SymDriveVehiculeEx(Id,sTroncon, nVoie, dPos, bForce)\n",
    "\n",
    "    bResult = symuvialib.SymRunNextStepEx(sRequest, True, byref(bEnd)) \n",
    "    dParsed = parse(sRequest.value.decode('UTF8'))\n",
    "    print('Instant:',s+1)\n",
    "\n",
    "\n",
    "#     print(f'bResult: {bResult}')    \n",
    "#     print(f'OutputNet: {sRequest.value}')        \n",
    "    ti = dParsed['INST']['@val']\n",
    "    print(ti, bResult)\n",
    "\n",
    "# # Create vehicle at time step 0.5\n",
    "# stype = 'CAV'\n",
    "# sOrigin= 'Ext_In_main'\n",
    "# sDestination = 'Ext_Out_main'\n",
    "# nVoie = c_int(1)\n",
    "# dbTime = c_double(0.05)\n",
    "# nIdVeh = symuvialib.SymCreateVehicleEx(stype.encode('UTF8'), sOrigin.encode('UTF8'), sDestination.encode('UTF8'), nVoie, dbTime)\n",
    "# print('Vehicle created', nIdVeh)\n",
    "    \n",
    "    \n",
    "# # Run time step \n",
    "# bResult = symuvialib.SymRunNextStepEx(sRequest, 1, byref(bEnd)) \n",
    "# dParsed = parse(sRequest.value.decode('UTF8'))\n",
    "# print(f'bResult: {bResult}')    \n",
    "# print(f'OutputNet: {sRequest.value}')  \n",
    "# ti = dParsed['INST']['@val']\n",
    "# print(ti, bResult)   \n",
    "\n",
    "# # Drive vehicle @ 0.5\n",
    "\n",
    "sTroncon = 'In_main'.encode('UTF8')\n",
    "nVoie = c_int(1)\n",
    "dPos = c_double(15.0)\n",
    "Id = c_int(0)\n",
    "bForce = c_int(1)\n",
    "#print(sTroncon,nVoie,dPos,Id, bForce)\n",
    "dParsed1 = dParsed\n",
    "print(dParsed1)\n",
    "\n",
    "nres = symuvialib.SymDriveVehicleEx(Id, sTroncon, nVoie, dPos, bForce)\n",
    "\n",
    "\n",
    "bResult = symuvialib.SymRunNextStepEx(sRequest, 1, byref(bEnd)) \n",
    "dParsed = parse(sRequest.value.decode('UTF8'))\n",
    "# print(f'bResult: {bResult}')    \n",
    "# print(f'OutputNet: {sRequest.value}')  \n",
    "ti = dParsed['INST']['@val']\n",
    "print(ti, bResult)   \n",
    "print(dParsed)\n",
    "\n",
    "# print('Drive ',nres )"
   ]
  },
  {
   "cell_type": "markdown",
   "metadata": {},
   "source": [
    "#### Reading from dB\n",
    "\n",
    "Reading `headway` table to check reference headway times "
   ]
  }
 ],
 "metadata": {
  "kernelspec": {
   "display_name": "Python [default]",
   "language": "python",
   "name": "python3"
  },
  "language_info": {
   "codemirror_mode": {
    "name": "ipython",
    "version": 3
   },
   "file_extension": ".py",
   "mimetype": "text/x-python",
   "name": "python",
   "nbconvert_exporter": "python",
   "pygments_lexer": "ipython3",
   "version": "3.6.4"
  }
 },
 "nbformat": 4,
 "nbformat_minor": 2
}
